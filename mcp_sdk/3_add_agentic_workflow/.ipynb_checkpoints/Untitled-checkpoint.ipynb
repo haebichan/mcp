{
 "cells": [
  {
   "cell_type": "code",
   "execution_count": 4,
   "id": "420df131-4190-44ef-8135-cb6f64d0fa8e",
   "metadata": {},
   "outputs": [
    {
     "name": "stdout",
     "output_type": "stream",
     "text": [
      "Status code: 404\n",
      "Failed to fetch resource.\n"
     ]
    }
   ],
   "source": [
    "import requests\n",
    "\n",
    "url = \"http://localhost:8080/resources/read?uri=resource://sample-csv\"\n",
    "\n",
    "response = requests.get(url)\n",
    "\n",
    "print(f\"Status code: {response.status_code}\")\n",
    "if response.status_code == 200:\n",
    "    print(\"Resource content preview (first 500 chars):\")\n",
    "    print(response.text[:500])\n",
    "else:\n",
    "    print(\"Failed to fetch resource.\")\n"
   ]
  },
  {
   "cell_type": "code",
   "execution_count": 6,
   "id": "3b28bd7c-6f66-48e0-9b59-aca5bc862321",
   "metadata": {},
   "outputs": [
    {
     "name": "stdout",
     "output_type": "stream",
     "text": [
      "Failed to fetch resource. Status code: 404\n"
     ]
    }
   ],
   "source": [
    "import requests\n",
    "\n",
    "MCP_RESOURCE_URL = \"http://localhost:8080/resources/read?uri=sample-csv\"\n",
    "\n",
    "response = requests.get(MCP_RESOURCE_URL)\n",
    "\n",
    "if response.status_code == 200:\n",
    "    print(\"Resource content:\", response.text)\n",
    "else:\n",
    "    print(f\"Failed to fetch resource. Status code: {response.status_code}\")\n"
   ]
  },
  {
   "cell_type": "code",
   "execution_count": null,
   "id": "69826da8-ed2c-4337-b1e6-aa1d4ae291d9",
   "metadata": {},
   "outputs": [],
   "source": []
  }
 ],
 "metadata": {
  "kernelspec": {
   "display_name": "Python 3 (ipykernel)",
   "language": "python",
   "name": "python3"
  },
  "language_info": {
   "codemirror_mode": {
    "name": "ipython",
    "version": 3
   },
   "file_extension": ".py",
   "mimetype": "text/x-python",
   "name": "python",
   "nbconvert_exporter": "python",
   "pygments_lexer": "ipython3",
   "version": "3.12.11"
  }
 },
 "nbformat": 4,
 "nbformat_minor": 5
}
