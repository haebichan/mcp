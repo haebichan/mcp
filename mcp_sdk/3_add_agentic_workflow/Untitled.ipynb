{
 "cells": [
  {
   "cell_type": "code",
   "execution_count": 4,
   "id": "420df131-4190-44ef-8135-cb6f64d0fa8e",
   "metadata": {},
   "outputs": [
    {
     "name": "stdout",
     "output_type": "stream",
     "text": [
      "Status code: 404\n",
      "Failed to fetch resource.\n"
     ]
    }
   ],
   "source": [
    "import requests\n",
    "\n",
    "url = \"http://localhost:8080/resources/read?uri=resource://sample-csv\"\n",
    "\n",
    "response = requests.get(url)\n",
    "\n",
    "print(f\"Status code: {response.status_code}\")\n",
    "if response.status_code == 200:\n",
    "    print(\"Resource content preview (first 500 chars):\")\n",
    "    print(response.text[:500])\n",
    "else:\n",
    "    print(\"Failed to fetch resource.\")\n"
   ]
  },
  {
   "cell_type": "code",
   "execution_count": 16,
   "id": "3b28bd7c-6f66-48e0-9b59-aca5bc862321",
   "metadata": {
    "scrolled": true
   },
   "outputs": [
    {
     "name": "stdout",
     "output_type": "stream",
     "text": [
      "Resource content: region,revenue\n",
      "North,1000\n",
      "South,1500\n",
      "East,900\n",
      "West,1300\n",
      "North,1100\n",
      "South,1600\n",
      "East,950\n",
      "West,1250\n",
      "\n"
     ]
    }
   ],
   "source": [
    "import requests\n",
    "import json\n",
    "\n",
    "def parse_sse_response(response_text):\n",
    "    \"\"\"Parse Server-Sent Events response to extract JSON data.\"\"\"\n",
    "    lines = response_text.strip().split('\\n')\n",
    "    for line in lines:\n",
    "        if line.startswith('data: '):\n",
    "            json_data = line[6:]  # Remove 'data: ' prefix\n",
    "            return json.loads(json_data)\n",
    "    return None\n",
    "\n",
    "# Replace your original code with this:\n",
    "payload = {\n",
    "    \"jsonrpc\": \"2.0\",\n",
    "    \"id\": 1,\n",
    "    \"method\": \"resources/read\",\n",
    "    \"params\": {\"uri\": \"resource://sample-csv\"}\n",
    "}\n",
    "\n",
    "response = requests.post(\"http://localhost:8080/mcp\",\n",
    "                       json=payload,\n",
    "                       headers={\n",
    "                           \"Content-Type\": \"application/json\",\n",
    "                           \"Accept\": \"application/json, text/event-stream\"\n",
    "                       })\n",
    "\n",
    "if response.status_code == 200:\n",
    "    result = parse_sse_response(response.text)\n",
    "    if result and 'result' in result and 'contents' in result['result']:\n",
    "        csv_content = result['result']['contents'][0]['text']\n",
    "        print(\"Resource content:\", csv_content)\n",
    "    else:\n",
    "        print(\"Unexpected response format\")\n",
    "else:\n",
    "    print(f\"Failed to fetch resource. Status code: {response.status_code}\")"
   ]
  },
  {
   "cell_type": "code",
   "execution_count": 10,
   "id": "955dc55b-400d-49e9-8126-2c9b0b3abab7",
   "metadata": {},
   "outputs": [
    {
     "data": {
      "text/plain": [
       "'resource%3A%2F%2Fsample-csv'"
      ]
     },
     "execution_count": 10,
     "metadata": {},
     "output_type": "execute_result"
    }
   ],
   "source": [
    "encoded_uri"
   ]
  },
  {
   "cell_type": "code",
   "execution_count": 15,
   "id": "1ed399ad-a735-493f-a460-ea0f15294570",
   "metadata": {},
   "outputs": [
    {
     "name": "stdout",
     "output_type": "stream",
     "text": [
      "=== Available Resources ===\n",
      "Name: get_sample_csv\n",
      "URI: resource://sample-csv\n",
      "Description: Returns the content of sample.csv.\n",
      "---\n",
      "\n",
      "=== Getting CSV Content ===\n",
      "CSV Content:\n",
      "region,revenue\n",
      "North,1000\n",
      "South,1500\n",
      "East,900\n",
      "West,1300\n",
      "North,1100\n",
      "South,1600\n",
      "East,950\n",
      "West,1250\n",
      "\n"
     ]
    }
   ],
   "source": [
    "import requests\n",
    "import json\n",
    "\n",
    "def parse_sse_response(response_text):\n",
    "    \"\"\"Parse Server-Sent Events response to extract JSON data.\"\"\"\n",
    "    lines = response_text.strip().split('\\n')\n",
    "    for line in lines:\n",
    "        if line.startswith('data: '):\n",
    "            json_data = line[6:]  # Remove 'data: ' prefix\n",
    "            return json.loads(json_data)\n",
    "    return None\n",
    "\n",
    "def get_fastmcp_resource(uri):\n",
    "    \"\"\"Get a resource from FastMCP server.\"\"\"\n",
    "    payload = {\n",
    "        \"jsonrpc\": \"2.0\",\n",
    "        \"id\": 1,\n",
    "        \"method\": \"resources/read\",\n",
    "        \"params\": {\"uri\": uri}\n",
    "    }\n",
    "    \n",
    "    response = requests.post(\"http://localhost:8080/mcp\",\n",
    "                           json=payload,\n",
    "                           headers={\n",
    "                               \"Content-Type\": \"application/json\",\n",
    "                               \"Accept\": \"application/json, text/event-stream\"\n",
    "                           })\n",
    "    \n",
    "    if response.status_code == 200:\n",
    "        # Parse the SSE response\n",
    "        result = parse_sse_response(response.text)\n",
    "        if result and 'result' in result and 'contents' in result['result']:\n",
    "            return result['result']['contents'][0]['text']\n",
    "        else:\n",
    "            print(\"Unexpected response format:\", result)\n",
    "            return None\n",
    "    else:\n",
    "        print(f\"Error: {response.status_code} - {response.text}\")\n",
    "        return None\n",
    "\n",
    "def list_fastmcp_resources():\n",
    "    \"\"\"List all available resources from FastMCP server.\"\"\"\n",
    "    payload = {\n",
    "        \"jsonrpc\": \"2.0\",\n",
    "        \"id\": 1,\n",
    "        \"method\": \"resources/list\",\n",
    "        \"params\": {}\n",
    "    }\n",
    "    \n",
    "    response = requests.post(\"http://localhost:8080/mcp\",\n",
    "                           json=payload,\n",
    "                           headers={\n",
    "                               \"Content-Type\": \"application/json\",\n",
    "                               \"Accept\": \"application/json, text/event-stream\"\n",
    "                           })\n",
    "    \n",
    "    if response.status_code == 200:\n",
    "        result = parse_sse_response(response.text)\n",
    "        if result and 'result' in result and 'resources' in result['result']:\n",
    "            return result['result']['resources']\n",
    "        else:\n",
    "            print(\"Unexpected response format:\", result)\n",
    "            return None\n",
    "    else:\n",
    "        print(f\"Error: {response.status_code} - {response.text}\")\n",
    "        return None\n",
    "\n",
    "if __name__ == \"__main__\":\n",
    "    print(\"=== Available Resources ===\")\n",
    "    resources = list_fastmcp_resources()\n",
    "    if resources:\n",
    "        for resource in resources:\n",
    "            print(f\"Name: {resource['name']}\")\n",
    "            print(f\"URI: {resource['uri']}\")\n",
    "            print(f\"Description: {resource['description']}\")\n",
    "            print(\"---\")\n",
    "    \n",
    "    print(\"\\n=== Getting CSV Content ===\")\n",
    "    csv_content = get_fastmcp_resource(\"resource://sample-csv\")\n",
    "    if csv_content:\n",
    "        print(\"CSV Content:\")\n",
    "        print(csv_content)"
   ]
  },
  {
   "cell_type": "code",
   "execution_count": 25,
   "id": "c8c4f00f-d10b-40b0-b49a-fc332f3b9a60",
   "metadata": {},
   "outputs": [],
   "source": [
    "import requests\n",
    "import json\n",
    "\n",
    "# The MCP JSON-RPC endpoint your server exposes (matches server.py run config)\n",
    "MCP_RPC_URL = \"http://127.0.0.1:8080/mcp/rpc\"\n",
    "\n",
    "# Request headers:\n",
    "# - Content-Type: tell server we're sending JSON\n",
    "# - Accept: we accept either plain JSON or SSE (text/event-stream); server may choose\n",
    "# - MCP-Protocol-Version: version hint some servers expect\n",
    "HEADERS = {\n",
    "    \"Content-Type\": \"application/json\",\n",
    "    \"Accept\": \"application/json, text/event-stream\",\n",
    "    \"MCP-Protocol-Version\": \"2025-06-18\",\n",
    "}\n",
    "\n",
    "\n",
    "payload = {\n",
    "        \"jsonrpc\": \"2.0\",\n",
    "        \"method\": \"tools/list\",\n",
    "        \"params\": None or {},\n",
    "        \"id\": 1,\n",
    "    }\n",
    "\n",
    "# Fire the HTTP POST to the JSON-RPC endpoint\n",
    "resp = requests.post(MCP_RPC_URL, json=payload, headers=HEADERS)\n",
    "\n"
   ]
  },
  {
   "cell_type": "code",
   "execution_count": 26,
   "id": "040a5ec7-fa95-4abb-a111-0a317ff62cc0",
   "metadata": {},
   "outputs": [
    {
     "data": {
      "text/plain": [
       "'event: message\\r\\ndata: {\"jsonrpc\":\"2.0\",\"id\":5000,\"result\":{\"tools\":[{\"name\":\"echo\",\"inputSchema\":{\"properties\":{\"text\":{\"title\":\"Text\",\"type\":\"string\"}},\"required\":[\"text\"],\"type\":\"object\"},\"outputSchema\":{\"properties\":{\"result\":{\"title\":\"Result\",\"type\":\"string\"}},\"required\":[\"result\"],\"title\":\"_WrappedResult\",\"type\":\"object\",\"x-fastmcp-wrap-result\":true},\"_meta\":{\"_fastmcp\":{\"tags\":[]}}},{\"name\":\"summarize_csv\",\"description\":\"Load CSV with pandas and send summary request to OpenAI.\",\"inputSchema\":{\"properties\":{\"csv_text\":{\"title\":\"Csv Text\",\"type\":\"string\"}},\"required\":[\"csv_text\"],\"type\":\"object\"},\"outputSchema\":{\"properties\":{\"result\":{\"title\":\"Result\",\"type\":\"string\"}},\"required\":[\"result\"],\"title\":\"_WrappedResult\",\"type\":\"object\",\"x-fastmcp-wrap-result\":true},\"_meta\":{\"_fastmcp\":{\"tags\":[]}}}]}}'"
      ]
     },
     "execution_count": 26,
     "metadata": {},
     "output_type": "execute_result"
    }
   ],
   "source": [
    "body = resp.text.strip()\n",
    "body"
   ]
  },
  {
   "cell_type": "code",
   "execution_count": null,
   "id": "db67f79e-3628-409a-9e95-b8695602d2b9",
   "metadata": {},
   "outputs": [],
   "source": []
  },
  {
   "cell_type": "code",
   "execution_count": null,
   "id": "02cfced2-ff3f-458a-b7e2-44d3caa325bc",
   "metadata": {},
   "outputs": [],
   "source": []
  }
 ],
 "metadata": {
  "kernelspec": {
   "display_name": "Python 3 (ipykernel)",
   "language": "python",
   "name": "python3"
  },
  "language_info": {
   "codemirror_mode": {
    "name": "ipython",
    "version": 3
   },
   "file_extension": ".py",
   "mimetype": "text/x-python",
   "name": "python",
   "nbconvert_exporter": "python",
   "pygments_lexer": "ipython3",
   "version": "3.12.11"
  }
 },
 "nbformat": 4,
 "nbformat_minor": 5
}
